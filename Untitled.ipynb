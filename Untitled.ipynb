{
 "cells": [
  {
   "cell_type": "code",
   "execution_count": 1,
   "metadata": {
    "collapsed": false
   },
   "outputs": [
    {
     "name": "stdout",
     "output_type": "stream",
     "text": [
      "<!DOCTYPE HTML PUBLIC \"-//W3C//DTD HTML 4.01 Transitional//EN\" \"http://www.w3.org/TR/html4/loose.dtd\">\r\n",
      "<html lang=\"en\">\r\n",
      "<head>\r\n",
      "<title>curl and libcurl</title>\r\n",
      "<meta content=\"text/html; charset=UTF-8\" http-equiv=\"Content-Type\">\r\n",
      "<link rel=\"stylesheet\" type=\"text/css\" href=\"//curl.haxx.se/curl.css\">\r\n",
      "<link rel=\"shortcut icon\" href=\"//curl.haxx.se/favicon.ico\">\r\n",
      "</head>\r\n",
      "<body bgcolor=\"#ffffff\" text=\"#000000\">\r\n",
      "<div class=\"main\">\r\n",
      "<div class=\"menu\">\r\n",
      "<a href=\"https://curl.haxx.se/changes.html\" class=\"menuitem\" title=\"The changes done in releases\">Changelog</a>\r\n",
      "<a href=\"https://curl.haxx.se/dev/\" class=\"menuitem\" title=\"Resources for development and developers\">Development</a>\r\n",
      "<a href=\"https://curl.haxx.se/docs/\" class=\"menuitem\" title=\"curl documentation\">Documentation</a>\r\n",
      "<a href=\"https://curl.haxx.se/download.html\" class=\"menuitem\" title=\"Get curl packages\">Download</a>\r\n",
      "<a href=\"https://curl.haxx.se/libcurl/\" class=\"menuitem\" title=\"libcurl web site section\">libcurl</a>\r\n",
      "<a href=\"https://curl.haxx.se/mail/\" class=\"menuitem\" title=\"Mailing List info and archives\">Mailing Lists</a>\r\n",
      "<a href=\"https://curl.haxx.se/news.html\" class=\"menuitem\" title=\"Recent events and news in the project\">News</a>\r\n",
      "</div>\r\n",
      "<div class=\"contents\">\r\n",
      "<center><img src=\"//curl.haxx.se/pix/curl-refined.jpg\" alt=\"cURL\" style=\"width:90%; max-width: 471px;\">\r\n",
      "</center>\r\n",
      "<hr>\r\n",
      "<p><b>curl is an open source command line tool and library</b> for transferring\r\n",
      "data with URL syntax, supporting DICT, FILE, FTP, FTPS, Gopher, HTTP, HTTPS,\r\n",
      "IMAP, IMAPS, LDAP, LDAPS, POP3, POP3S, RTMP, RTSP, SCP, SFTP, SMB, SMTP,\r\n",
      "SMTPS, Telnet and TFTP.  curl supports SSL certificates, HTTP POST, HTTP PUT,\r\n",
      "FTP uploading, HTTP form based upload, proxies, HTTP/2, cookies, user+password\r\n",
      "authentication (Basic, Plain, Digest, CRAM-MD5, NTLM, Negotiate and Kerberos),\r\n",
      "file transfer resume, proxy tunneling and more.\r\n",
      "<p><b>What's curl used for?</b>\r\n",
      "<p>\r\n",
      "curl is used in command lines or scripts to transfer data. It is also used in\r\n",
      "cars, television sets, routers, printers, audio equipment, mobile phones,\r\n",
      "tablets, settop boxes, media players and is the internet transfer backbone for\r\n",
      "thousands of software applications totally affecting more than <i>one billion\r\n",
      "users</i>.\r\n",
      "<p><b>Who makes curl?</b>\r\n",
      "<p>\r\n",
      "curl is free and <a href=\"docs/copyright.html\" title=\"curl and libcurl are licensed under a MIT/X derivate license\">open software</a> that compiles and\r\n",
      "runs under a wide variety of operating systems. curl exists thanks\r\n",
      "to <a href=\"docs/thanks.html\" title=\"More than 1200 named contributors\">thousands of contributors</a>.\r\n",
      "<p><b>What's the latest curl?</b>\r\n",
      "<p>\r\n",
      "The most recent stable version is <b>7.47.0</b>, released on 27th of January 2016.\r\n",
      "Currently, 98 of the listed <a href=\"download.html\" title=\"Binary download packages for your platform!\">downloads</a> are of the latest version.\r\n",
      "<p><b>Where's the code?</b>\r\n",
      "<p>\r\n",
      " Check out the latest <a href=\"https://github.com/curl/curl\" title=\"git clone the curl code\">source code\r\n",
      " from github</a>.\r\n",
      "</div>\r\n",
      "</div>\r\n",
      "</BODY>\r\n",
      "</HTML>\r\n"
     ]
    }
   ],
   "source": [
    "curl https://curl.haxx.se"
   ]
  },
  {
   "cell_type": "code",
   "execution_count": 2,
   "metadata": {
    "collapsed": false
   },
   "outputs": [
    {
     "name": "stdout",
     "output_type": "stream",
     "text": [
      "--2016-02-06 10:18:37--  http://libraries.ucsd.edu/\r\n",
      "Resolving libraries.ucsd.edu... 132.239.119.11\r\n",
      "Connecting to libraries.ucsd.edu|132.239.119.11|:80... connected.\r\n",
      "HTTP request sent, awaiting response... 200 OK\r\n",
      "Length: 18477 (18K) [text/html]\r\n",
      "Saving to: 'index.html.1'\r\n",
      "\r\n",
      "\r",
      "index.html.1          0%[                      ]       0  --.-KB/s             \r",
      "index.html.1        100%[=====================>]  18.04K   113KB/s   in 0.2s   \r\n",
      "\r\n",
      "2016-02-06 10:18:38 (113 KB/s) - 'index.html.1' saved [18477/18477]\r\n",
      "\r\n"
     ]
    }
   ],
   "source": [
    "wget http://libraries.ucsd.edu"
   ]
  },
  {
   "cell_type": "code",
   "execution_count": 3,
   "metadata": {
    "collapsed": false
   },
   "outputs": [
    {
     "name": "stdout",
     "output_type": "stream",
     "text": [
      "404.html\t\t_config.yml\t\tatom.xml\r\n",
      "CNAME\t\t\t_includes\t\tcss\r\n",
      "Gemfile\t\t\t_layouts\t\timages\r\n",
      "Gemfile.lock\t\t_posts\t\t\tindex.html\r\n",
      "LICENSE\t\t\t_site\t\t\tindex.html.1\r\n",
      "README.md\t\tabout.markdown\t\tjs\r\n",
      "Untitled.ipynb\t\tapple-touch-icon.png\r\n"
     ]
    }
   ],
   "source": [
    "ls"
   ]
  },
  {
   "cell_type": "code",
   "execution_count": 6,
   "metadata": {
    "collapsed": false
   },
   "outputs": [
    {
     "name": "stdout",
     "output_type": "stream",
     "text": []
    }
   ],
   "source": [
    "rm index.html.1"
   ]
  },
  {
   "cell_type": "code",
   "execution_count": null,
   "metadata": {
    "collapsed": true
   },
   "outputs": [],
   "source": []
  }
 ],
 "metadata": {
  "kernelspec": {
   "display_name": "Bash",
   "language": "bash",
   "name": "bash"
  },
  "language_info": {
   "codemirror_mode": "shell",
   "file_extension": ".sh",
   "mimetype": "text/x-sh",
   "name": "bash"
  }
 },
 "nbformat": 4,
 "nbformat_minor": 0
}
